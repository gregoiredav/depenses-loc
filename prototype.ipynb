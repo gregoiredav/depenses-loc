{
 "cells": [
  {
   "cell_type": "code",
   "execution_count": 635,
   "metadata": {},
   "outputs": [],
   "source": [
    "import pandas as pd"
   ]
  },
  {
   "cell_type": "code",
   "execution_count": 636,
   "metadata": {},
   "outputs": [],
   "source": [
    "DATA_FILE = 'BalanceSPL_Fonction_2018_Dec2019.csv'"
   ]
  },
  {
   "cell_type": "code",
   "execution_count": 637,
   "metadata": {},
   "outputs": [],
   "source": [
    "data = pd.read_csv(DATA_FILE, sep=';')"
   ]
  },
  {
   "cell_type": "code",
   "execution_count": 638,
   "metadata": {},
   "outputs": [],
   "source": [
    "### Mise en forme\n",
    "\n",
    "def string_to_float(ligne):\n",
    "    return float(ligne.replace(',','.'))\n",
    "\n",
    "COLS = ['IDENT', 'NDEPT', 'INSEE', 'siren', 'LBUDG', 'COMPTE', 'OOBDEB', 'OOBCRE',\n",
    "        'FONCTION', 'SD', 'SC', 'OBNETDEB', 'OBNETCRE']\n",
    "FLOAT_COLS = ['SD', 'SC', 'OBNETDEB', 'OBNETCRE', 'OOBDEB', 'OOBCRE']\n",
    "\n",
    "data = data[COLS]\n",
    "for col in FLOAT_COLS:\n",
    "    data[col] = data[col].apply(string_to_float)\n",
    "    \n",
    "data['COMPTE'] = data['COMPTE'].apply(str)"
   ]
  },
  {
   "cell_type": "code",
   "execution_count": 639,
   "metadata": {},
   "outputs": [],
   "source": [
    "AGGREGATS = {\n",
    "    1: 'Achats et charges externes', \n",
    "    2: 'Impôts et taxes', \n",
    "    3: 'Charges de personnel',\n",
    "    4: 'Autres charges de gestion courante',\n",
    "    5: 'Charges financieres',\n",
    "    6: 'Charges exceptionnelles',\n",
    "    7: 'Depenses directes d investissement',\n",
    "    8: 'Subventions d equipement versees',\n",
    "    9: 'Prises de participation',\n",
    "    10: 'Prets accordes',\n",
    "    11: 'Remboursement d emprunts et de dettes assimilees',\n",
    "}"
   ]
  },
  {
   "cell_type": "code",
   "execution_count": 640,
   "metadata": {},
   "outputs": [],
   "source": [
    "DEFINITION_AGGREGATS = {\n",
    "    1: {'a_prendre': ['60', '61', '62'], 'a_exclure': ['621']},\n",
    "    2: {'a_prendre': ['63'], 'a_exclure': ['631', '633']}, \n",
    "    3: {'a_prendre': ['64', '621', '631', '633'], 'a_exclure': []},        \n",
    "    4: {'a_prendre': ['65'], 'a_exclure': []},\n",
    "    5: {'a_prendre': ['66'], 'a_exclure': []},\n",
    "    6: {'a_prendre': ['67'], 'a_exclure': ['675', '676']},\n",
    "    7: {'a_prendre': ['20', '21', '23'], 'a_exclure': ['204']},\n",
    "    8: {'a_prendre': ['204'], 'a_exclure': []},\n",
    "    9: {'a_prendre': ['261', '271', '272', '25'], 'a_exclure': []},\n",
    "    10: {'a_prendre': ['26', '27'], 'a_exclure': ['261', '271', '272', '25']},  \n",
    "    11: {'a_prendre': ['16'], 'a_exclure': ['1688', '166']}, \n",
    "}"
   ]
  },
  {
   "cell_type": "code",
   "execution_count": 641,
   "metadata": {},
   "outputs": [],
   "source": [
    "def get_aggregat_code(ligne):\n",
    "    for code_aggregat, conditions in DEFINITION_AGGREGATS.items():\n",
    "        if flag_aggregat(ligne, conditions['a_prendre'], conditions['a_exclure']):\n",
    "            return code_aggregat\n",
    "\n",
    "def flag_aggregat(ligne, a_prendre, a_exclure):\n",
    "    flag = False\n",
    "    for compte in a_prendre:\n",
    "        if ligne.startswith(compte):\n",
    "            flag = True\n",
    "    for compte in a_exclure:\n",
    "        if ligne.startswith(compte):\n",
    "            flag=False\n",
    "    return flag\n",
    "\n",
    "def label_aggregat(code):\n",
    "    if code:\n",
    "        return AGGREGATS[code]"
   ]
  },
  {
   "cell_type": "code",
   "execution_count": 642,
   "metadata": {},
   "outputs": [],
   "source": [
    "# créer les aggregats\n",
    "data['code_aggregat'] = data['COMPTE'].apply(get_aggregat_code)\n",
    "data = data.dropna(subset=['code_aggregat'])\n",
    "data['aggregat'] = data['code_aggregat'].apply(label_aggregat)"
   ]
  },
  {
   "cell_type": "code",
   "execution_count": 643,
   "metadata": {},
   "outputs": [],
   "source": [
    "# calculer les dépenses selon les aggrégats"
   ]
  },
  {
   "cell_type": "code",
   "execution_count": 644,
   "metadata": {},
   "outputs": [],
   "source": [
    "calcul_depense_1 = data['code_aggregat'].isin([1.0, 2.0, 3.0, 4.0, 5.0, 6.0])\n",
    "calcul_depense_2 = data['code_aggregat'].isin([7.0, 8.0, 9.0])\n",
    "calcul_depense_3 = data['code_aggregat'].isin([10.0, 11.0])\n",
    "\n",
    "data.loc[calcul_depense_1, 'depense'] = data['SD'] - data['SC']\n",
    "data.loc[calcul_depense_2, 'depense'] = data['OBNETDEB'] - data['OBNETCRE'] + data['OOBCRE'] - data['OOBDEB'] \n",
    "data.loc[calcul_depense_3, 'depense'] = data['OBNETDEB']"
   ]
  },
  {
   "cell_type": "code",
   "execution_count": null,
   "metadata": {},
   "outputs": [],
   "source": [
    "# étiquetter les fonctions"
   ]
  },
  {
   "cell_type": "code",
   "execution_count": 645,
   "metadata": {},
   "outputs": [],
   "source": [
    "FONCTIONS = {\n",
    "    0: 'Services généraux et opérations non ventilables',\n",
    "    1: 'Sécurité et salubrité publiques',\n",
    "    2: 'Enseignement – formation',\n",
    "    3: 'Culture',\n",
    "    4: 'Sport et jeunesse',\n",
    "    5: 'Interventions sociales et santé',\n",
    "    6: 'Famille',\n",
    "    7: 'Logement',\n",
    "    8: 'Aménagement et services urbains, environnement',\n",
    "    9: 'Action économique',\n",
    "}\n",
    "\n",
    "data['FONCTION'].fillna(0, inplace=True)\n",
    "data['code_fonction'] = data['FONCTION'].apply(lambda x: str(x)[0])\n",
    "data['fonction'] = data['code_fonction'].apply(lambda x: FONCTIONS[int(x)])"
   ]
  },
  {
   "cell_type": "code",
   "execution_count": 646,
   "metadata": {},
   "outputs": [],
   "source": [
    "# concat departement et code insee \n",
    "def pad_ndept(code):\n",
    "    if len(str(code)) == 1:\n",
    "        code = '0' + str(code)\n",
    "    return str(code)\n",
    "\n",
    "data['departement'] = data['NDEPT'].apply(pad_ndept)\n",
    "data['INSEE'].fillna(0, inplace=True)\n",
    "data['COM'] = data['departement'] + data['INSEE'].apply(lambda x: str(int(x)))"
   ]
  },
  {
   "cell_type": "code",
   "execution_count": 647,
   "metadata": {},
   "outputs": [],
   "source": [
    "# pivoting \n",
    "index_cols = ['siren', 'IDENT', 'fonction', 'COM']\n",
    "pivot_table = (\n",
    "    pd\n",
    "    .pivot_table(data_so, values='depense', index=index_cols, columns='aggregat', aggfunc='sum', fill_value=0)\n",
    "    .reset_index()\n",
    ")"
   ]
  },
  {
   "cell_type": "code",
   "execution_count": 651,
   "metadata": {},
   "outputs": [],
   "source": [
    "# import and join pop data\n",
    "pop_data = pd.read_csv('base_pop_insee.csv', sep=';')\n",
    "pop_data_agg = pop_data.groupby(['COM', 'LIBCOM']).sum().sort_values('P16_POP', ascending=False).reset_index()\n",
    "pivot_pop = pivot_table.merge(pop_data_agg, how='left', on='COM')"
   ]
  },
  {
   "cell_type": "code",
   "execution_count": 652,
   "metadata": {},
   "outputs": [],
   "source": [
    "pivot_pop.to_csv('pivot_pop.csv')"
   ]
  },
  {
   "cell_type": "code",
   "execution_count": 653,
   "metadata": {},
   "outputs": [],
   "source": [
    "pivot_pop_sample = pivot_pop[pivot_pop['COM'].apply(str).isin(['31555', '06088', '44109', '34172'])]"
   ]
  },
  {
   "cell_type": "code",
   "execution_count": 654,
   "metadata": {},
   "outputs": [],
   "source": [
    "pivot_pop_sample.to_csv('pivot_pop_sample.csv')"
   ]
  },
  {
   "cell_type": "code",
   "execution_count": null,
   "metadata": {},
   "outputs": [],
   "source": []
  }
 ],
 "metadata": {
  "kernelspec": {
   "display_name": "Python 3",
   "language": "python",
   "name": "python3"
  },
  "language_info": {
   "codemirror_mode": {
    "name": "ipython",
    "version": 3
   },
   "file_extension": ".py",
   "mimetype": "text/x-python",
   "name": "python",
   "nbconvert_exporter": "python",
   "pygments_lexer": "ipython3",
   "version": "3.7.4"
  }
 },
 "nbformat": 4,
 "nbformat_minor": 2
}
