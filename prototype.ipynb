{
 "cells": [
  {
   "cell_type": "code",
   "execution_count": null,
   "metadata": {},
   "outputs": [],
   "source": [
    "import pandas as pd"
   ]
  },
  {
   "cell_type": "code",
   "execution_count": null,
   "metadata": {},
   "outputs": [],
   "source": [
    "DATA_DIR = 'data/'\n",
    "DATA_FILE = 'BalanceSPL_Fonction_2018_Dec2019.csv'"
   ]
  },
  {
   "cell_type": "code",
   "execution_count": null,
   "metadata": {
    "scrolled": true
   },
   "outputs": [],
   "source": [
    "data = pd.read_csv(DATA_DIR + DATA_FILE, sep=';')"
   ]
  },
  {
   "cell_type": "code",
   "execution_count": null,
   "metadata": {},
   "outputs": [],
   "source": [
    "COLUMNS = ['IDENT', 'NDEPT', 'INSEE', 'siren', 'LBUDG', 'COMPTE', 'OOBDEB', 'OOBCRE', \n",
    "           'FONCTION', 'SD', 'SC', 'OBNETDEB', 'OBNETCRE']"
   ]
  },
  {
   "cell_type": "code",
   "execution_count": null,
   "metadata": {},
   "outputs": [],
   "source": [
    "from lib import string_to_float, get_code_aggregat, label_aggregat, label_fonction, pad_ndept"
   ]
  },
  {
   "cell_type": "code",
   "execution_count": null,
   "metadata": {},
   "outputs": [],
   "source": [
    "from importlib import reload"
   ]
  },
  {
   "cell_type": "code",
   "execution_count": null,
   "metadata": {},
   "outputs": [],
   "source": [
    "reload(lib)"
   ]
  },
  {
   "cell_type": "code",
   "execution_count": null,
   "metadata": {},
   "outputs": [],
   "source": [
    "# convertir colonnes de dépense en float\n",
    "for col in ['SD', 'SC', 'OBNETDEB', 'OBNETCRE', 'OOBDEB', 'OOBCRE']:\n",
    "    data[col] = data[col].apply(string_to_float)\n",
    "\n",
    "# convertir compte en str\n",
    "data['COMPTE'] = data['COMPTE'].apply(str)"
   ]
  },
  {
   "cell_type": "code",
   "execution_count": 45,
   "metadata": {},
   "outputs": [],
   "source": [
    "# étiquetter les aggregats\n",
    "data['code_aggregat'] = data['COMPTE'].apply(get_code_aggregat)\n",
    "data = data.dropna(subset=['code_aggregat'])\n",
    "data['aggregat'] = data['code_aggregat'].apply(get_label_aggregat)"
   ]
  },
  {
   "cell_type": "code",
   "execution_count": 46,
   "metadata": {},
   "outputs": [],
   "source": [
    "# calculer les dépenses selon les aggrégats\n",
    "calcul_depense_1 = data['code_aggregat'].isin([1.0, 2.0, 3.0, 4.0, 5.0, 6.0])\n",
    "calcul_depense_2 = data['code_aggregat'].isin([7.0, 8.0, 9.0])\n",
    "calcul_depense_3 = data['code_aggregat'].isin([10.0, 11.0])\n",
    "\n",
    "data.loc[calcul_depense_1, 'depense'] = data['SD'] - data['SC']\n",
    "data.loc[calcul_depense_2, 'depense'] = data['OBNETDEB'] - data['OBNETCRE'] - (data['OOBDEB'] - data['OOBCRE']) \n",
    "data.loc[calcul_depense_3, 'depense'] = data['OBNETDEB']"
   ]
  },
  {
   "cell_type": "code",
   "execution_count": 51,
   "metadata": {},
   "outputs": [],
   "source": [
    "# étiquetter les fonctions\n",
    "data['FONCTION'].fillna(0, inplace=True)\n",
    "data['code_fonction'] = data['FONCTION'].apply(lambda x: str(x)[0])\n",
    "data['fonction'] = data['code_fonction'].apply(lambda x: label_fonction(int(x)))"
   ]
  },
  {
   "cell_type": "code",
   "execution_count": 71,
   "metadata": {},
   "outputs": [],
   "source": [
    "# concat departement et code insee \n",
    "data['departement'] = data['NDEPT'].apply(pad_ndept)\n",
    "data['INSEE'].fillna(0, inplace=True)\n",
    "data['code_commune'] = data['departement'] + data['INSEE'].apply(lambda x: str(int(x)))"
   ]
  },
  {
   "cell_type": "code",
   "execution_count": 74,
   "metadata": {},
   "outputs": [],
   "source": [
    "# pivoting \n",
    "index_cols = ['siren', 'IDENT', 'fonction', 'code_commune']\n",
    "pivot_table = (\n",
    "    pd\n",
    "    .pivot_table(data, values='depense', index=index_cols, columns='aggregat', aggfunc='sum', fill_value=0)\n",
    "    .reset_index()\n",
    ")"
   ]
  },
  {
   "cell_type": "code",
   "execution_count": 75,
   "metadata": {},
   "outputs": [],
   "source": [
    "# import and join pop data\n",
    "pop_data = models.population_data()\n",
    "pivot_pop = pivot_table.merge(pop_data, how='left', on='code_commune')"
   ]
  },
  {
   "cell_type": "code",
   "execution_count": null,
   "metadata": {},
   "outputs": [],
   "source": [
    "pivot_pop.to_csv('pivot_pop.csv')"
   ]
  },
  {
   "cell_type": "code",
   "execution_count": 78,
   "metadata": {},
   "outputs": [],
   "source": [
    "pivot_pop_sample = pivot_pop[pivot_pop['code_commune'].apply(str).isin(['31555', '06088', '44109', '34172'])]"
   ]
  },
  {
   "cell_type": "code",
   "execution_count": null,
   "metadata": {},
   "outputs": [],
   "source": [
    "pivot_pop_sample.to_csv('pivot_pop_sample.csv')"
   ]
  },
  {
   "cell_type": "code",
   "execution_count": null,
   "metadata": {},
   "outputs": [],
   "source": []
  }
 ],
 "metadata": {
  "kernelspec": {
   "display_name": "Python 3",
   "language": "python",
   "name": "python3"
  },
  "language_info": {
   "codemirror_mode": {
    "name": "ipython",
    "version": 3
   },
   "file_extension": ".py",
   "mimetype": "text/x-python",
   "name": "python",
   "nbconvert_exporter": "python",
   "pygments_lexer": "ipython3",
   "version": "3.7.4"
  }
 },
 "nbformat": 4,
 "nbformat_minor": 2
}
